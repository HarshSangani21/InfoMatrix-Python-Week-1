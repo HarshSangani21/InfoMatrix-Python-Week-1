{
 "cells": [
  {
   "cell_type": "markdown",
   "metadata": {},
   "source": [
    "Q1. Write a Python Program to demonstrate-\n",
    "\n",
    "i)\tAccessing any element in a Nested List(at least 2+ lists should be nested)\n",
    "\n",
    "ii)\tAppend new key-value pair in the middle of a list containing dictionaries\n",
    "\n",
    "e.g) dict1= [{“ABC”:123},{“CDE”:345},{“PQR”:297},{“XYZ”:547}]\n",
    "\n",
    "Key-Value pair to be inserted- {“GHI”:389}\n",
    "\n",
    "newdict= [{“ABC”:123},{“CDE”:345},{“GHI”:389},{“PQR”:297},{“XYZ”:547}]\n",
    "(for odd length do at next position)\n"
   ]
  },
  {
   "cell_type": "code",
   "execution_count": 1,
   "metadata": {},
   "outputs": [],
   "source": [
    "list = [[\"apple\", \"bannana\", \"pineapple\", \"mango\"],\n",
    "        [\"potatos\", [\"tomatoes\", \"cabbage\", \"lady finger\"]],\n",
    "        [[\"oil\", \"ghee\"], \"flour\"]]"
   ]
  },
  {
   "cell_type": "code",
   "execution_count": 2,
   "metadata": {},
   "outputs": [
    {
     "name": "stdout",
     "output_type": "stream",
     "text": [
      "['oil', 'ghee']\n",
      "mango\n",
      "tomatoes\n"
     ]
    }
   ],
   "source": [
    "imp_elements= list[2][0]\n",
    "print(imp_elements)\n",
    "expensive_fruit = list[-3][-1]\n",
    "print(expensive_fruit)\n",
    "juicy_vegetable= list[1][1][0]\n",
    "print(juicy_vegetable)"
   ]
  },
  {
   "cell_type": "code",
   "execution_count": 3,
   "metadata": {},
   "outputs": [
    {
     "name": "stdout",
     "output_type": "stream",
     "text": [
      "['apple', 'bannana', 'pineapple', 'mango']\n"
     ]
    }
   ],
   "source": [
    "fruits = []\n",
    "for fruit in list[0]:\n",
    "    fruits.append(fruit)\n",
    "print(fruits)"
   ]
  },
  {
   "cell_type": "code",
   "execution_count": 4,
   "metadata": {},
   "outputs": [
    {
     "name": "stdout",
     "output_type": "stream",
     "text": [
      "[{'one': 1}, {'two': 2}, {'five': 5}, {'six': 6}]\n"
     ]
    }
   ],
   "source": [
    "list1= [{\"one\":1},{\"two\":2},{\"five\":5},{\"six\":6}]\n",
    "print(list1)"
   ]
  },
  {
   "cell_type": "code",
   "execution_count": 5,
   "metadata": {},
   "outputs": [],
   "source": [
    "def insert_list(list1,dict1):\n",
    "    if len(list1)%2!=0 :\n",
    "        list1.insert(len(list1) // 2 + 1,dict1)\n",
    "    else:   \n",
    "        list1.insert(len(list1) // 2,dict1)"
   ]
  },
  {
   "cell_type": "code",
   "execution_count": 6,
   "metadata": {},
   "outputs": [
    {
     "name": "stdout",
     "output_type": "stream",
     "text": [
      "[{'one': 1}, {'two': 2}, {'three': 3}, {'five': 5}, {'six': 6}]\n",
      "[{'one': 1}, {'two': 2}, {'three': 3}, {'four': 4}, {'five': 5}, {'six': 6}]\n"
     ]
    }
   ],
   "source": [
    "insert_list(list1,{\"three\":3})\n",
    "print(list1)\n",
    "insert_list(list1,{\"four\":4})\n",
    "print(list1)"
   ]
  },
  {
   "cell_type": "markdown",
   "metadata": {},
   "source": [
    "Q2. Use String operations, make the following changes-\n",
    "\n",
    "i)\tMerge a string with integers and verify the resultant obtained is a string \n",
    "\n",
    "ii)\tCount the frequency of all characters having count more than 1\n",
    "\n",
    "iii)\tInsert a character at the second last position of the string\n",
    "\n",
    "iv)\tPrint the last character of the string using the appropriate String function\n"
   ]
  },
  {
   "cell_type": "code",
   "execution_count": 7,
   "metadata": {},
   "outputs": [
    {
     "name": "stdout",
     "output_type": "stream",
     "text": [
      "I have AK47\n",
      "<class 'str'>\n"
     ]
    }
   ],
   "source": [
    "str1 = \"I have AK\"\n",
    "number = 47\n",
    "str2 = str1 + str(number)\n",
    "print(str2)\n",
    "print(type(str2))"
   ]
  },
  {
   "cell_type": "code",
   "execution_count": 8,
   "metadata": {},
   "outputs": [],
   "source": [
    "def count_characters(st):\n",
    "    freq = {}\n",
    "    stu=st.upper()\n",
    "    for c in stu:\n",
    "        count1 = stu.count(c)\n",
    "        if count1>1 and c!=\" \":\n",
    "            freq.update({c:count1})\n",
    "    for key in freq:\n",
    "        print(f\"Frequency of \\'{key}\\' is {freq[key]}\")"
   ]
  },
  {
   "cell_type": "code",
   "execution_count": 9,
   "metadata": {},
   "outputs": [
    {
     "name": "stdout",
     "output_type": "stream",
     "text": [
      "Frequency of 'E' is 2\n",
      "Frequency of 'L' is 2\n",
      "Frequency of 'M' is 3\n",
      "Frequency of 'N' is 2\n",
      "Frequency of 'A' is 3\n"
     ]
    }
   ],
   "source": [
    "count_characters(\"Hello My Name is Aman\")"
   ]
  },
  {
   "cell_type": "code",
   "execution_count": 10,
   "metadata": {},
   "outputs": [
    {
     "name": "stdout",
     "output_type": "stream",
     "text": [
      "Frequency of 'S' is 4\n",
      "Frequency of 'W' is 2\n",
      "Frequency of 'I' is 2\n"
     ]
    }
   ],
   "source": [
    "count_characters(\"Swans likes to swim\")"
   ]
  },
  {
   "cell_type": "code",
   "execution_count": 11,
   "metadata": {},
   "outputs": [
    {
     "name": "stdout",
     "output_type": "stream",
     "text": [
      "I have big AK\n"
     ]
    }
   ],
   "source": [
    "insertstr=str1[:-2]+\"big \"+str1[-2:]\n",
    "print(insertstr)"
   ]
  },
  {
   "cell_type": "code",
   "execution_count": 12,
   "metadata": {},
   "outputs": [
    {
     "name": "stdout",
     "output_type": "stream",
     "text": [
      "K\n"
     ]
    }
   ],
   "source": [
    "print(str1[-1])"
   ]
  },
  {
   "cell_type": "markdown",
   "metadata": {},
   "source": [
    "Q3. Write a Program to print the following pattern using for loop\n",
    "\n",
    "5\n",
    "\n",
    "5 4\n",
    "\n",
    "5 4 3\n",
    "\n",
    "5 4 3 2\n",
    "\n",
    "5 4 3 2 1"
   ]
  },
  {
   "cell_type": "code",
   "execution_count": 13,
   "metadata": {},
   "outputs": [
    {
     "name": "stdout",
     "output_type": "stream",
     "text": [
      "5 \n",
      "\n",
      "5 4 \n",
      "\n",
      "5 4 3 \n",
      "\n",
      "5 4 3 2 \n",
      "\n",
      "5 4 3 2 1 \n",
      "\n"
     ]
    }
   ],
   "source": [
    "def pattern_print(n):\n",
    "    for i in range(n):\n",
    "        temp = n\n",
    "        for j in range(i+1):\n",
    "            print(temp,end=\" \")\n",
    "            temp -= 1\n",
    "        print(\"\\n\")\n",
    "\n",
    "pattern_print(5)"
   ]
  },
  {
   "cell_type": "markdown",
   "metadata": {},
   "source": [
    "Q4. Write the following sequence using break and continue keywords both and for loop\n",
    "\n",
    "1,5, 7, 11, 13, 17, 19\n"
   ]
  },
  {
   "cell_type": "code",
   "execution_count": 14,
   "metadata": {},
   "outputs": [
    {
     "name": "stdout",
     "output_type": "stream",
     "text": [
      "1, 5, 7, 11, 13, 17, 19, "
     ]
    }
   ],
   "source": [
    "def sequence_printer():\n",
    "    for i in range(30):\n",
    "        if i%3==0:\n",
    "            continue\n",
    "        elif i%2!=0:\n",
    "            print(i,end=\", \")\n",
    "        elif i>20:\n",
    "            break\n",
    "\n",
    "sequence_printer()\n"
   ]
  },
  {
   "cell_type": "markdown",
   "metadata": {},
   "source": [
    "Q5. Sort a list temporarily without changing the original list. Take homogenous list."
   ]
  },
  {
   "cell_type": "code",
   "execution_count": 15,
   "metadata": {},
   "outputs": [
    {
     "name": "stdout",
     "output_type": "stream",
     "text": [
      "['b', 'h', 'l', 'o', 'p', 'e', 'w', 'a', 'q', 'c']\n",
      "Assending Order : ['a', 'b', 'c', 'e', 'h', 'l', 'o', 'p', 'q', 'w']\n",
      "Dessending Order : ['w', 'q', 'p', 'o', 'l', 'h', 'e', 'c', 'b', 'a']\n"
     ]
    }
   ],
   "source": [
    "unsorted_list = ['b','h','l','o','p','e','w','a','q','c']\n",
    "print(unsorted_list)\n",
    "sorted_list = unsorted_list.copy()\n",
    "sorted_list.sort()\n",
    "print(\"Assending Order :\",sorted_list)\n",
    "sorted_list.sort(reverse=True)\n",
    "print(\"Dessending Order :\",sorted_list)"
   ]
  },
  {
   "cell_type": "markdown",
   "metadata": {},
   "source": [
    "Q6. WAP to find whether a number is Armstrong number or not using user defined function.\n",
    "\n",
    "e.g: 153= 13 + 53 + 33 =153 which is an Armstrong number.\n"
   ]
  },
  {
   "cell_type": "code",
   "execution_count": 16,
   "metadata": {},
   "outputs": [
    {
     "name": "stdout",
     "output_type": "stream",
     "text": [
      "153 is an Armstrong Number\n"
     ]
    }
   ],
   "source": [
    "def check_armstrong_num(n):\n",
    "    temp=n\n",
    "    sum1=0\n",
    "    while temp!=0:\n",
    "        sum1 += (temp%10)**3\n",
    "        temp = temp//10\n",
    "    if (n==sum1):\n",
    "        print(f\"{n} is an Armstrong Number\") \n",
    "    else : \n",
    "        print(f\"{n} is NOT an Armstrong Number.\")\n",
    "\n",
    "check_armstrong_num(153)\n",
    "    "
   ]
  },
  {
   "cell_type": "markdown",
   "metadata": {},
   "source": [
    "Q7. tuple1 = (11, 22) tuple2 = (99, 88)\n",
    "\n",
    "swap 2 tuples without using a new tuple\n"
   ]
  },
  {
   "cell_type": "code",
   "execution_count": 17,
   "metadata": {},
   "outputs": [
    {
     "name": "stdout",
     "output_type": "stream",
     "text": [
      "Tuple 1: (99, 88)\n",
      "Tuple 2: (11, 22)\n"
     ]
    }
   ],
   "source": [
    "tuple1 =(11,22)\n",
    "tuple2 =(99,88)\n",
    "tuple1,tuple2 = tuple2,tuple1\n",
    "print(\"Tuple 1:\",tuple1)\n",
    "print(\"Tuple 2:\",tuple2)\n"
   ]
  }
 ],
 "metadata": {
  "kernelspec": {
   "display_name": "base",
   "language": "python",
   "name": "python3"
  },
  "language_info": {
   "codemirror_mode": {
    "name": "ipython",
    "version": 3
   },
   "file_extension": ".py",
   "mimetype": "text/x-python",
   "name": "python",
   "nbconvert_exporter": "python",
   "pygments_lexer": "ipython3",
   "version": "3.11.5"
  }
 },
 "nbformat": 4,
 "nbformat_minor": 2
}
