{
 "cells": [
  {
   "cell_type": "code",
   "execution_count": 1,
   "metadata": {},
   "outputs": [],
   "source": [
    "import numpy as np\n",
    "import pandas as pd"
   ]
  },
  {
   "cell_type": "markdown",
   "metadata": {},
   "source": [
    "Q1. Write a NumPy program to swap rows and columns of a given array in reverse order."
   ]
  },
  {
   "cell_type": "code",
   "execution_count": 2,
   "metadata": {},
   "outputs": [
    {
     "name": "stdout",
     "output_type": "stream",
     "text": [
      "[[63 84 48 84 32 62 38 26 55 51]\n",
      " [ 6 16 65 83 38 99 64 18  7  1]\n",
      " [57 65 38 48 92 42 25  8 42 91]\n",
      " [71 73 74 13 67 70 61  7 96 50]\n",
      " [46 52 88 63 57 74 10  2 77 40]]\n"
     ]
    }
   ],
   "source": [
    "array1 = np.random.randint(1,100,50)\n",
    "array1 = array1.reshape(5,10)\n",
    "print(array1)\n"
   ]
  },
  {
   "cell_type": "code",
   "execution_count": 3,
   "metadata": {},
   "outputs": [
    {
     "name": "stdout",
     "output_type": "stream",
     "text": [
      "[[40 50 91  1 51]\n",
      " [77 96 42  7 55]\n",
      " [ 2  7  8 18 26]\n",
      " [10 61 25 64 38]\n",
      " [74 70 42 99 62]\n",
      " [57 67 92 38 32]\n",
      " [63 13 48 83 84]\n",
      " [88 74 38 65 48]\n",
      " [52 73 65 16 84]\n",
      " [46 71 57  6 63]]\n"
     ]
    }
   ],
   "source": [
    "array1 = array1[::-1,::-1].T\n",
    "print(array1)\n"
   ]
  },
  {
   "cell_type": "markdown",
   "metadata": {},
   "source": [
    "Q2.(a). Write a NumPy program to find the most frequent value in an array.\n",
    "\n",
    "array:\n",
    "[6 9 5 1 4 6 7 8 9 8 7 1 7 5 1 0 1 5 5 0 8 9 0 7 0 7 6 5 1 1 9 5 3 8 7 9 \n",
    "6 3 4 5 9 7 2 7 0 2 2 6]\n"
   ]
  },
  {
   "cell_type": "code",
   "execution_count": 4,
   "metadata": {},
   "outputs": [
    {
     "name": "stdout",
     "output_type": "stream",
     "text": [
      "[5 6 3 2 2 7 5 8 4 6]\n"
     ]
    }
   ],
   "source": [
    "array2 = np.array([6, 9, 5, 1, 4, 6, 7, 8, 9, 8, 7, 1, 7, 5, 1, 0, 1, 5, 5, 0, 8, 9, 0, 7, 0, 7, 6, 5, 1, 1, 9, 5, 3, 8, 7, 9, \n",
    "6, 3, 4, 5, 9, 7, 2, 7, 0, 2, 2, 6])\n",
    "freq = np.bincount(array2)\n",
    "print(freq)"
   ]
  },
  {
   "cell_type": "code",
   "execution_count": 5,
   "metadata": {},
   "outputs": [
    {
     "data": {
      "text/plain": [
       "7"
      ]
     },
     "execution_count": 5,
     "metadata": {},
     "output_type": "execute_result"
    }
   ],
   "source": [
    "freq.argmax()"
   ]
  },
  {
   "cell_type": "markdown",
   "metadata": {},
   "source": [
    "(b). sort the frequent values in descending order"
   ]
  },
  {
   "cell_type": "code",
   "execution_count": 6,
   "metadata": {},
   "outputs": [
    {
     "name": "stdout",
     "output_type": "stream",
     "text": [
      "[0 1 2 3 4 5 6 7 8 9]\n",
      "[5 6 3 2 2 7 5 8 4 6]\n"
     ]
    }
   ],
   "source": [
    "unq = np.nonzero(freq)[0]\n",
    "freqs = freq[unq]\n",
    "print(unq)\n",
    "print(freqs)\n"
   ]
  },
  {
   "cell_type": "code",
   "execution_count": 7,
   "metadata": {},
   "outputs": [
    {
     "name": "stdout",
     "output_type": "stream",
     "text": [
      "[(7, 8), (5, 7), (1, 6), (9, 6), (0, 5), (6, 5), (8, 4), (2, 3), (3, 2), (4, 2)]\n"
     ]
    }
   ],
   "source": [
    "zipping_sortby_freq = sorted(zip(unq,freqs),key=lambda x:x[1],reverse=True)\n",
    "print(zipping_sortby_freq)"
   ]
  },
  {
   "cell_type": "code",
   "execution_count": 8,
   "metadata": {},
   "outputs": [
    {
     "name": "stdout",
     "output_type": "stream",
     "text": [
      "[7, 5, 1, 9, 0, 6, 8, 2, 3, 4]\n"
     ]
    }
   ],
   "source": [
    "value_sortby_freq = [values for values,freqencies in zipping_sortby_freq]\n",
    "print(value_sortby_freq)"
   ]
  },
  {
   "cell_type": "markdown",
   "metadata": {},
   "source": [
    "Q3- Write a Pandas Program to create a dataframe such that the column labels are Name, Rollnumber, Subject1, Subject2 and Total\n",
    "\n",
    "i)\tUsing Pandas function itself calculate the statistical summary(mean, median, mode, Quartiles, etc) of all the numerical columns.\n"
   ]
  },
  {
   "cell_type": "code",
   "execution_count": 9,
   "metadata": {},
   "outputs": [
    {
     "data": {
      "text/html": [
       "<div>\n",
       "<style scoped>\n",
       "    .dataframe tbody tr th:only-of-type {\n",
       "        vertical-align: middle;\n",
       "    }\n",
       "\n",
       "    .dataframe tbody tr th {\n",
       "        vertical-align: top;\n",
       "    }\n",
       "\n",
       "    .dataframe thead th {\n",
       "        text-align: right;\n",
       "    }\n",
       "</style>\n",
       "<table border=\"1\" class=\"dataframe\">\n",
       "  <thead>\n",
       "    <tr style=\"text-align: right;\">\n",
       "      <th></th>\n",
       "      <th>Name</th>\n",
       "      <th>Roll Number</th>\n",
       "      <th>Subject1</th>\n",
       "      <th>Subject2</th>\n",
       "      <th>Total</th>\n",
       "    </tr>\n",
       "  </thead>\n",
       "  <tbody>\n",
       "    <tr>\n",
       "      <th>0</th>\n",
       "      <td>Abhishek</td>\n",
       "      <td>3</td>\n",
       "      <td>89</td>\n",
       "      <td>76</td>\n",
       "      <td>165</td>\n",
       "    </tr>\n",
       "    <tr>\n",
       "      <th>1</th>\n",
       "      <td>Shruti</td>\n",
       "      <td>4</td>\n",
       "      <td>80</td>\n",
       "      <td>69</td>\n",
       "      <td>149</td>\n",
       "    </tr>\n",
       "    <tr>\n",
       "      <th>2</th>\n",
       "      <td>Karan</td>\n",
       "      <td>25</td>\n",
       "      <td>84</td>\n",
       "      <td>78</td>\n",
       "      <td>162</td>\n",
       "    </tr>\n",
       "    <tr>\n",
       "      <th>3</th>\n",
       "      <td>Kalash</td>\n",
       "      <td>24</td>\n",
       "      <td>93</td>\n",
       "      <td>83</td>\n",
       "      <td>176</td>\n",
       "    </tr>\n",
       "    <tr>\n",
       "      <th>4</th>\n",
       "      <td>Jaimeen</td>\n",
       "      <td>23</td>\n",
       "      <td>79</td>\n",
       "      <td>82</td>\n",
       "      <td>161</td>\n",
       "    </tr>\n",
       "  </tbody>\n",
       "</table>\n",
       "</div>"
      ],
      "text/plain": [
       "       Name  Roll Number  Subject1  Subject2  Total\n",
       "0  Abhishek            3        89        76    165\n",
       "1    Shruti            4        80        69    149\n",
       "2     Karan           25        84        78    162\n",
       "3    Kalash           24        93        83    176\n",
       "4   Jaimeen           23        79        82    161"
      ]
     },
     "execution_count": 9,
     "metadata": {},
     "output_type": "execute_result"
    }
   ],
   "source": [
    "data = [[\"Abhishek\",3,89,76,165],[\"Shruti\",4,80,69,149],[\"Karan\",25,84,78,162],[\"Kalash\",24,93,83,176],[\"Jaimeen\",23,79,82,161]]\n",
    "dataframe = pd.DataFrame(data,columns=[\"Name\",\"Roll Number\",\"Subject1\",\"Subject2\",\"Total\"])\n",
    "dataframe"
   ]
  },
  {
   "cell_type": "code",
   "execution_count": 10,
   "metadata": {},
   "outputs": [
    {
     "data": {
      "text/html": [
       "<div>\n",
       "<style scoped>\n",
       "    .dataframe tbody tr th:only-of-type {\n",
       "        vertical-align: middle;\n",
       "    }\n",
       "\n",
       "    .dataframe tbody tr th {\n",
       "        vertical-align: top;\n",
       "    }\n",
       "\n",
       "    .dataframe thead th {\n",
       "        text-align: right;\n",
       "    }\n",
       "</style>\n",
       "<table border=\"1\" class=\"dataframe\">\n",
       "  <thead>\n",
       "    <tr style=\"text-align: right;\">\n",
       "      <th></th>\n",
       "      <th>Roll Number</th>\n",
       "      <th>Subject1</th>\n",
       "      <th>Subject2</th>\n",
       "      <th>Total</th>\n",
       "    </tr>\n",
       "  </thead>\n",
       "  <tbody>\n",
       "    <tr>\n",
       "      <th>count</th>\n",
       "      <td>5.000000</td>\n",
       "      <td>5.000000</td>\n",
       "      <td>5.00000</td>\n",
       "      <td>5.000000</td>\n",
       "    </tr>\n",
       "    <tr>\n",
       "      <th>mean</th>\n",
       "      <td>15.800000</td>\n",
       "      <td>85.000000</td>\n",
       "      <td>77.60000</td>\n",
       "      <td>162.600000</td>\n",
       "    </tr>\n",
       "    <tr>\n",
       "      <th>std</th>\n",
       "      <td>11.256109</td>\n",
       "      <td>5.958188</td>\n",
       "      <td>5.59464</td>\n",
       "      <td>9.659193</td>\n",
       "    </tr>\n",
       "    <tr>\n",
       "      <th>min</th>\n",
       "      <td>3.000000</td>\n",
       "      <td>79.000000</td>\n",
       "      <td>69.00000</td>\n",
       "      <td>149.000000</td>\n",
       "    </tr>\n",
       "    <tr>\n",
       "      <th>25%</th>\n",
       "      <td>4.000000</td>\n",
       "      <td>80.000000</td>\n",
       "      <td>76.00000</td>\n",
       "      <td>161.000000</td>\n",
       "    </tr>\n",
       "    <tr>\n",
       "      <th>50%</th>\n",
       "      <td>23.000000</td>\n",
       "      <td>84.000000</td>\n",
       "      <td>78.00000</td>\n",
       "      <td>162.000000</td>\n",
       "    </tr>\n",
       "    <tr>\n",
       "      <th>75%</th>\n",
       "      <td>24.000000</td>\n",
       "      <td>89.000000</td>\n",
       "      <td>82.00000</td>\n",
       "      <td>165.000000</td>\n",
       "    </tr>\n",
       "    <tr>\n",
       "      <th>max</th>\n",
       "      <td>25.000000</td>\n",
       "      <td>93.000000</td>\n",
       "      <td>83.00000</td>\n",
       "      <td>176.000000</td>\n",
       "    </tr>\n",
       "  </tbody>\n",
       "</table>\n",
       "</div>"
      ],
      "text/plain": [
       "       Roll Number   Subject1  Subject2       Total\n",
       "count     5.000000   5.000000   5.00000    5.000000\n",
       "mean     15.800000  85.000000  77.60000  162.600000\n",
       "std      11.256109   5.958188   5.59464    9.659193\n",
       "min       3.000000  79.000000  69.00000  149.000000\n",
       "25%       4.000000  80.000000  76.00000  161.000000\n",
       "50%      23.000000  84.000000  78.00000  162.000000\n",
       "75%      24.000000  89.000000  82.00000  165.000000\n",
       "max      25.000000  93.000000  83.00000  176.000000"
      ]
     },
     "execution_count": 10,
     "metadata": {},
     "output_type": "execute_result"
    }
   ],
   "source": [
    "dataframe.describe()"
   ]
  },
  {
   "cell_type": "markdown",
   "metadata": {},
   "source": [
    "ii)\tSort the entire dataframe based on the alphabetical order "
   ]
  },
  {
   "cell_type": "code",
   "execution_count": 11,
   "metadata": {},
   "outputs": [
    {
     "data": {
      "text/html": [
       "<div>\n",
       "<style scoped>\n",
       "    .dataframe tbody tr th:only-of-type {\n",
       "        vertical-align: middle;\n",
       "    }\n",
       "\n",
       "    .dataframe tbody tr th {\n",
       "        vertical-align: top;\n",
       "    }\n",
       "\n",
       "    .dataframe thead th {\n",
       "        text-align: right;\n",
       "    }\n",
       "</style>\n",
       "<table border=\"1\" class=\"dataframe\">\n",
       "  <thead>\n",
       "    <tr style=\"text-align: right;\">\n",
       "      <th></th>\n",
       "      <th>Name</th>\n",
       "      <th>Roll Number</th>\n",
       "      <th>Subject1</th>\n",
       "      <th>Subject2</th>\n",
       "      <th>Total</th>\n",
       "    </tr>\n",
       "  </thead>\n",
       "  <tbody>\n",
       "    <tr>\n",
       "      <th>0</th>\n",
       "      <td>Abhishek</td>\n",
       "      <td>3</td>\n",
       "      <td>89</td>\n",
       "      <td>76</td>\n",
       "      <td>165</td>\n",
       "    </tr>\n",
       "    <tr>\n",
       "      <th>4</th>\n",
       "      <td>Jaimeen</td>\n",
       "      <td>23</td>\n",
       "      <td>79</td>\n",
       "      <td>82</td>\n",
       "      <td>161</td>\n",
       "    </tr>\n",
       "    <tr>\n",
       "      <th>3</th>\n",
       "      <td>Kalash</td>\n",
       "      <td>24</td>\n",
       "      <td>93</td>\n",
       "      <td>83</td>\n",
       "      <td>176</td>\n",
       "    </tr>\n",
       "    <tr>\n",
       "      <th>2</th>\n",
       "      <td>Karan</td>\n",
       "      <td>25</td>\n",
       "      <td>84</td>\n",
       "      <td>78</td>\n",
       "      <td>162</td>\n",
       "    </tr>\n",
       "    <tr>\n",
       "      <th>1</th>\n",
       "      <td>Shruti</td>\n",
       "      <td>4</td>\n",
       "      <td>80</td>\n",
       "      <td>69</td>\n",
       "      <td>149</td>\n",
       "    </tr>\n",
       "  </tbody>\n",
       "</table>\n",
       "</div>"
      ],
      "text/plain": [
       "       Name  Roll Number  Subject1  Subject2  Total\n",
       "0  Abhishek            3        89        76    165\n",
       "4   Jaimeen           23        79        82    161\n",
       "3    Kalash           24        93        83    176\n",
       "2     Karan           25        84        78    162\n",
       "1    Shruti            4        80        69    149"
      ]
     },
     "execution_count": 11,
     "metadata": {},
     "output_type": "execute_result"
    }
   ],
   "source": [
    "dataframe.sort_values(\"Name\")"
   ]
  },
  {
   "cell_type": "markdown",
   "metadata": {},
   "source": [
    "iii)\tChange the dataset such that there are missing values and NAN values in the dataset and handle them appropriately."
   ]
  },
  {
   "cell_type": "code",
   "execution_count": 12,
   "metadata": {},
   "outputs": [
    {
     "data": {
      "text/plain": [
       "1    Female\n",
       "2      Male\n",
       "3      Male\n",
       "dtype: object"
      ]
     },
     "execution_count": 12,
     "metadata": {},
     "output_type": "execute_result"
    }
   ],
   "source": [
    "gender = pd.Series([\"Female\",\"Male\",\"Male\"],index=[1,2,3])\n",
    "gender"
   ]
  },
  {
   "cell_type": "code",
   "execution_count": 13,
   "metadata": {},
   "outputs": [
    {
     "data": {
      "text/html": [
       "<div>\n",
       "<style scoped>\n",
       "    .dataframe tbody tr th:only-of-type {\n",
       "        vertical-align: middle;\n",
       "    }\n",
       "\n",
       "    .dataframe tbody tr th {\n",
       "        vertical-align: top;\n",
       "    }\n",
       "\n",
       "    .dataframe thead th {\n",
       "        text-align: right;\n",
       "    }\n",
       "</style>\n",
       "<table border=\"1\" class=\"dataframe\">\n",
       "  <thead>\n",
       "    <tr style=\"text-align: right;\">\n",
       "      <th></th>\n",
       "      <th>Name</th>\n",
       "      <th>Roll Number</th>\n",
       "      <th>Subject1</th>\n",
       "      <th>Subject2</th>\n",
       "      <th>Total</th>\n",
       "      <th>Gender</th>\n",
       "    </tr>\n",
       "  </thead>\n",
       "  <tbody>\n",
       "    <tr>\n",
       "      <th>0</th>\n",
       "      <td>Abhishek</td>\n",
       "      <td>3</td>\n",
       "      <td>89</td>\n",
       "      <td>76</td>\n",
       "      <td>165</td>\n",
       "      <td>NaN</td>\n",
       "    </tr>\n",
       "    <tr>\n",
       "      <th>1</th>\n",
       "      <td>Shruti</td>\n",
       "      <td>4</td>\n",
       "      <td>80</td>\n",
       "      <td>69</td>\n",
       "      <td>149</td>\n",
       "      <td>Female</td>\n",
       "    </tr>\n",
       "    <tr>\n",
       "      <th>2</th>\n",
       "      <td>Karan</td>\n",
       "      <td>25</td>\n",
       "      <td>84</td>\n",
       "      <td>78</td>\n",
       "      <td>162</td>\n",
       "      <td>Male</td>\n",
       "    </tr>\n",
       "    <tr>\n",
       "      <th>3</th>\n",
       "      <td>Kalash</td>\n",
       "      <td>24</td>\n",
       "      <td>93</td>\n",
       "      <td>83</td>\n",
       "      <td>176</td>\n",
       "      <td>Male</td>\n",
       "    </tr>\n",
       "    <tr>\n",
       "      <th>4</th>\n",
       "      <td>Jaimeen</td>\n",
       "      <td>23</td>\n",
       "      <td>79</td>\n",
       "      <td>82</td>\n",
       "      <td>161</td>\n",
       "      <td>NaN</td>\n",
       "    </tr>\n",
       "  </tbody>\n",
       "</table>\n",
       "</div>"
      ],
      "text/plain": [
       "       Name  Roll Number  Subject1  Subject2  Total  Gender\n",
       "0  Abhishek            3        89        76    165     NaN\n",
       "1    Shruti            4        80        69    149  Female\n",
       "2     Karan           25        84        78    162    Male\n",
       "3    Kalash           24        93        83    176    Male\n",
       "4   Jaimeen           23        79        82    161     NaN"
      ]
     },
     "execution_count": 13,
     "metadata": {},
     "output_type": "execute_result"
    }
   ],
   "source": [
    "dataframe[\"Gender\"]=gender\n",
    "dataframe"
   ]
  },
  {
   "cell_type": "code",
   "execution_count": 14,
   "metadata": {},
   "outputs": [
    {
     "data": {
      "text/html": [
       "<div>\n",
       "<style scoped>\n",
       "    .dataframe tbody tr th:only-of-type {\n",
       "        vertical-align: middle;\n",
       "    }\n",
       "\n",
       "    .dataframe tbody tr th {\n",
       "        vertical-align: top;\n",
       "    }\n",
       "\n",
       "    .dataframe thead th {\n",
       "        text-align: right;\n",
       "    }\n",
       "</style>\n",
       "<table border=\"1\" class=\"dataframe\">\n",
       "  <thead>\n",
       "    <tr style=\"text-align: right;\">\n",
       "      <th></th>\n",
       "      <th>Name</th>\n",
       "      <th>Roll Number</th>\n",
       "      <th>Subject1</th>\n",
       "      <th>Subject2</th>\n",
       "      <th>Total</th>\n",
       "      <th>Gender</th>\n",
       "    </tr>\n",
       "  </thead>\n",
       "  <tbody>\n",
       "    <tr>\n",
       "      <th>0</th>\n",
       "      <td>Abhishek</td>\n",
       "      <td>3</td>\n",
       "      <td>89</td>\n",
       "      <td>76</td>\n",
       "      <td>165</td>\n",
       "      <td>No Gender</td>\n",
       "    </tr>\n",
       "    <tr>\n",
       "      <th>1</th>\n",
       "      <td>Shruti</td>\n",
       "      <td>4</td>\n",
       "      <td>80</td>\n",
       "      <td>69</td>\n",
       "      <td>149</td>\n",
       "      <td>Female</td>\n",
       "    </tr>\n",
       "    <tr>\n",
       "      <th>2</th>\n",
       "      <td>Karan</td>\n",
       "      <td>25</td>\n",
       "      <td>84</td>\n",
       "      <td>78</td>\n",
       "      <td>162</td>\n",
       "      <td>Male</td>\n",
       "    </tr>\n",
       "    <tr>\n",
       "      <th>3</th>\n",
       "      <td>Kalash</td>\n",
       "      <td>24</td>\n",
       "      <td>93</td>\n",
       "      <td>83</td>\n",
       "      <td>176</td>\n",
       "      <td>Male</td>\n",
       "    </tr>\n",
       "    <tr>\n",
       "      <th>4</th>\n",
       "      <td>Jaimeen</td>\n",
       "      <td>23</td>\n",
       "      <td>79</td>\n",
       "      <td>82</td>\n",
       "      <td>161</td>\n",
       "      <td>No Gender</td>\n",
       "    </tr>\n",
       "  </tbody>\n",
       "</table>\n",
       "</div>"
      ],
      "text/plain": [
       "       Name  Roll Number  Subject1  Subject2  Total     Gender\n",
       "0  Abhishek            3        89        76    165  No Gender\n",
       "1    Shruti            4        80        69    149     Female\n",
       "2     Karan           25        84        78    162       Male\n",
       "3    Kalash           24        93        83    176       Male\n",
       "4   Jaimeen           23        79        82    161  No Gender"
      ]
     },
     "execution_count": 14,
     "metadata": {},
     "output_type": "execute_result"
    }
   ],
   "source": [
    "dataframe.fillna(\"No Gender\")"
   ]
  }
 ],
 "metadata": {
  "kernelspec": {
   "display_name": "base",
   "language": "python",
   "name": "python3"
  },
  "language_info": {
   "codemirror_mode": {
    "name": "ipython",
    "version": 3
   },
   "file_extension": ".py",
   "mimetype": "text/x-python",
   "name": "python",
   "nbconvert_exporter": "python",
   "pygments_lexer": "ipython3",
   "version": "3.11.5"
  }
 },
 "nbformat": 4,
 "nbformat_minor": 2
}
